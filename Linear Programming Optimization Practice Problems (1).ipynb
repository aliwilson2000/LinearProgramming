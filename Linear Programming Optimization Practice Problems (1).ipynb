{
 "cells": [
  {
   "cell_type": "markdown",
   "metadata": {
    "id": "Y-833b983D9e"
   },
   "source": [
    "# Linear Programming Optimization Problems (2 Variables)"
   ]
  },
  {
   "cell_type": "markdown",
   "metadata": {},
   "source": [
    "**Disclaimer:** *This page is a series of questions that look at very basic linear programming optimization problems (with just two variables). The questions have been sourced online, with the links attached in each question. The purpose of this document is for my own, practicing benefits.*"
   ]
  },
  {
   "cell_type": "markdown",
   "metadata": {},
   "source": [
    "**Before Questions:** Import the gurobipy library"
   ]
  },
  {
   "cell_type": "code",
   "execution_count": 38,
   "metadata": {},
   "outputs": [],
   "source": [
    "import numpy as np\n",
    "import gurobipy as gp"
   ]
  },
  {
   "cell_type": "markdown",
   "metadata": {
    "id": "qUL1ngUI3D9h"
   },
   "source": [
    "## Manufacturing Pants and Jackets Example"
   ]
  },
  {
   "cell_type": "markdown",
   "metadata": {},
   "source": [
    "Question Source: https://www.superprof.co.uk/resources/academic/maths/linear-algebra/linear-programming/linear-programming-examples.html\n",
    "\n",
    "A store has requested a manufacturer to produce pants and sports jackets.\n",
    "\n",
    "For materials, the manufacturer has $750 m ^2$ of cotton textile and $1000 m^2$ of polyester. Every pair of pants (1 unit) needs $1 m^2$ of cotton and $2 m ^2$ of polyester. Every jacket needs $1.5 m ^2$ of cotton and $1 m^2$ of polyester. The price of the pants is fixed at 50 dollars and the jacket, 40 dollars. What is the number of pants and jackets that the manufacturer must give to the stores so that these items obtain a maximum sale?"
   ]
  },
  {
   "cell_type": "markdown",
   "metadata": {},
   "source": [
    "**Final Equations to Use:** <br>\n",
    "$ 1X + 1.5Y </= 750 $ Equation 1 <br>\n",
    "$ 2X + 1Y </= 1000 $ - Equation 2 <br>\n",
    "$ 50X + 40Y = Profit $ - Equation 3"
   ]
  },
  {
   "cell_type": "code",
   "execution_count": 13,
   "metadata": {
    "id": "cQDyGafC3D99"
   },
   "outputs": [],
   "source": [
    "#create an empty gurobi model\n",
    "#we will then tell it what the decision variables are along with objective and constraints.\n",
    "manufacturingMod=gp.Model()"
   ]
  },
  {
   "cell_type": "code",
   "execution_count": 4,
   "metadata": {},
   "outputs": [],
   "source": [
    "#we first define the variables\n",
    "#the variables will be used in the objective and constraints\n",
    "#we have 2 variables here, one for jackets, one for pants\n",
    "manufacturingModX = manufacturingMod.addMVar(2) "
   ]
  },
  {
   "cell_type": "code",
   "execution_count": 7,
   "metadata": {},
   "outputs": [],
   "source": [
    "#using the decision variables, input the objective (equation 3)\n",
    "manufacturingMod.setObjective(50*manufacturingModX[0] + 40*manufacturingModX[1],sense=gp.GRB.MAXIMIZE)\n",
    "#by default gurobi wants to minimize.  so we must tell it that we're maximizing"
   ]
  },
  {
   "cell_type": "code",
   "execution_count": 8,
   "metadata": {},
   "outputs": [],
   "source": [
    "# using the decision variables define the constraints\n",
    "# first create an empty list that has as many entries as there are constraints\n",
    "conlist=[0]*2\n",
    "# then come back and change the list entries one by one to represent each constraint\n",
    "conlist[0] = manufacturingMod.addConstr(1*manufacturingModX[0] + 1.5*manufacturingModX[1] <= 750)\n",
    "conlist[1] = manufacturingMod.addConstr(2*manufacturingModX[0] + 1*manufacturingModX[1] <= 1000)"
   ]
  },
  {
   "cell_type": "code",
   "execution_count": 10,
   "metadata": {},
   "outputs": [],
   "source": [
    "manufacturingMod.Params.OutputFlag = 0 # tell gurobi to shut up!!\n",
    "\n",
    "manufacturingMod.optimize() # solve the model"
   ]
  },
  {
   "cell_type": "code",
   "execution_count": 11,
   "metadata": {},
   "outputs": [
    {
     "data": {
      "text/plain": [
       "28750.0"
      ]
     },
     "execution_count": 11,
     "metadata": {},
     "output_type": "execute_result"
    }
   ],
   "source": [
    "manufacturingMod.objVal # print the optimal objective value"
   ]
  },
  {
   "cell_type": "code",
   "execution_count": 12,
   "metadata": {},
   "outputs": [
    {
     "data": {
      "text/plain": [
       "array([375., 250.])"
      ]
     },
     "execution_count": 12,
     "metadata": {},
     "output_type": "execute_result"
    }
   ],
   "source": [
    "manufacturingModX.x # print the optimal decision variables"
   ]
  },
  {
   "cell_type": "markdown",
   "metadata": {
    "colab": {
     "background_save": true
    },
    "id": "9vwrvVl1XUiG"
   },
   "source": [
    "**Answer:**\n",
    "The maximum profit we can gain is $28,750, by producing 375 pants and 250 jackets."
   ]
  },
  {
   "cell_type": "markdown",
   "metadata": {},
   "source": [
    "## Maria's Online Shop Example"
   ]
  },
  {
   "cell_type": "markdown",
   "metadata": {},
   "source": [
    "Question Source: https://www.superprof.co.uk/resources/academic/maths/linear-algebra/linear-programming/linear-programming-examples.html\n",
    "\n",
    "Maria has an online shop where she sells hand made paintings and cards. She sells the painting for 50 dollars and the card for $20. It takes her 2 hours to complete 1 painting and 45 minutes to make a single card. She also has a day job and makes paintings and cards in her free time. She cannot spend more than 15 hours a week to make paintings and cards. Additionally, she should make not more than 10 paintings and cards per week.\n",
    "\n",
    "She makes a profit of 25 dollars on painting and 15 dollars on each card. How many paintings and cards should she make each week to maximize her profit."
   ]
  },
  {
   "cell_type": "markdown",
   "metadata": {},
   "source": [
    "**Final Equations to Use:** <br>\n",
    "$ 120X + 45Y </= 15(60) = 900 $ Equation 1 <br>\n",
    "$ X + Y </= 10 $ - Equation 2 <br>\n",
    "$ 50X + 20Y = Profit $ - Equation 3\n",
    "\n",
    "<br>\n",
    "Where X = paintings and Y = cards"
   ]
  },
  {
   "cell_type": "code",
   "execution_count": 18,
   "metadata": {},
   "outputs": [],
   "source": [
    "mariaMod=gp.Model()"
   ]
  },
  {
   "cell_type": "code",
   "execution_count": 21,
   "metadata": {},
   "outputs": [],
   "source": [
    "mariaModX = mariaMod.addMVar(2)  #paintings and cards"
   ]
  },
  {
   "cell_type": "code",
   "execution_count": 22,
   "metadata": {},
   "outputs": [],
   "source": [
    "#Equation 3\n",
    "mariaMod.setObjective(50*mariaModX[0] + 20*mariaModX[1],sense=gp.GRB.MAXIMIZE)"
   ]
  },
  {
   "cell_type": "code",
   "execution_count": 33,
   "metadata": {},
   "outputs": [],
   "source": [
    "conlist=[0]*2\n",
    "#Equation 1\n",
    "conlist[0] = mariaMod.addConstr(120*mariaModX[0] + 45*mariaModX[1] <= 900)\n",
    "#Equation 2\n",
    "conlist[1] = mariaMod.addConstr(mariaModX[0] + mariaModX[1] <= 10)\n"
   ]
  },
  {
   "cell_type": "code",
   "execution_count": 34,
   "metadata": {},
   "outputs": [],
   "source": [
    "mariaMod.Params.OutputFlag = 0\n",
    "mariaMod.optimize()"
   ]
  },
  {
   "cell_type": "code",
   "execution_count": 35,
   "metadata": {},
   "outputs": [
    {
     "data": {
      "text/plain": [
       "380.0"
      ]
     },
     "execution_count": 35,
     "metadata": {},
     "output_type": "execute_result"
    }
   ],
   "source": [
    "mariaMod.objVal"
   ]
  },
  {
   "cell_type": "code",
   "execution_count": 36,
   "metadata": {},
   "outputs": [
    {
     "data": {
      "text/plain": [
       "array([6., 4.])"
      ]
     },
     "execution_count": 36,
     "metadata": {},
     "output_type": "execute_result"
    }
   ],
   "source": [
    "mariaModX.x "
   ]
  },
  {
   "cell_type": "markdown",
   "metadata": {},
   "source": [
    "**Answer:**\n",
    "The maximum profit Maria can gain is $380, by producing 6 paintings and 4 cards, per week."
   ]
  },
  {
   "cell_type": "markdown",
   "metadata": {},
   "source": [
    "## Calculator Company Example"
   ]
  },
  {
   "cell_type": "markdown",
   "metadata": {},
   "source": [
    "Question Source: https://www.purplemath.com/modules/linprog3.htmA \n",
    "\n",
    "A calculator company produces a scientific calculator and a graphing calculator. Long-term projections indicate an expected demand of at least 100 scientific and 80 graphing calculators each day. Because of limitations on production capacity, no more than 200 scientific and 170 graphing calculators can be made daily. To satisfy a shipping contract, a total of at least 200 calculators much be shipped each day.\n",
    " \n",
    "If each scientific calculator sold results in a 2 dollar loss, but each graphing calculator produces a $5 profit, how many of each type should be made daily to maximize net profits?"
   ]
  },
  {
   "cell_type": "markdown",
   "metadata": {},
   "source": [
    "**Final Equations to Use:** <br>\n",
    "$ 100 </= X </= 200 $ Equation 1 <br>\n",
    "$ 80 </= Y </= 170 $ - Equation 2 <br>\n",
    "$ X + Y >/= 200 $ - Equation 3 <br>\n",
    "Profit = 5Y - 2X (Maximize)\n",
    "\n",
    "\n",
    "<br>\n",
    "Where X = scientific and Y = graphing"
   ]
  },
  {
   "cell_type": "code",
   "execution_count": 37,
   "metadata": {},
   "outputs": [],
   "source": [
    "calcMod=gp.Model()"
   ]
  },
  {
   "cell_type": "code",
   "execution_count": 39,
   "metadata": {},
   "outputs": [],
   "source": [
    "calcModX = calcMod.addMVar(2)  #scientific and graphing"
   ]
  },
  {
   "cell_type": "code",
   "execution_count": 47,
   "metadata": {},
   "outputs": [],
   "source": [
    "calcMod.setObjective(5*calcModX[1] - 2*calcModX[0],sense=gp.GRB.MAXIMIZE) #profit equation"
   ]
  },
  {
   "cell_type": "code",
   "execution_count": 48,
   "metadata": {},
   "outputs": [],
   "source": [
    "conlist=[0]*5 #for five equations\n",
    "#Equation 1\n",
    "conlist[0] = calcMod.addConstr(calcModX[0] <= 200)\n",
    "conlist[1] = calcMod.addConstr(calcModX[0] >= 100)\n",
    "\n",
    "#Equation 2\n",
    "conlist[2] = calcMod.addConstr(calcModX[1] <= 170)\n",
    "conlist[3] = calcMod.addConstr(calcModX[1] >= 80)\n",
    "\n",
    "#Equation 3\n",
    "conlist[4] = calcMod.addConstr(calcModX[0] + calcModX[1] >= 200)\n"
   ]
  },
  {
   "cell_type": "code",
   "execution_count": 49,
   "metadata": {},
   "outputs": [],
   "source": [
    "calcMod.Params.OutputFlag = 0\n",
    "calcMod.optimize()"
   ]
  },
  {
   "cell_type": "code",
   "execution_count": 50,
   "metadata": {},
   "outputs": [
    {
     "data": {
      "text/plain": [
       "650.0"
      ]
     },
     "execution_count": 50,
     "metadata": {},
     "output_type": "execute_result"
    }
   ],
   "source": [
    "calcMod.objVal"
   ]
  },
  {
   "cell_type": "code",
   "execution_count": 51,
   "metadata": {},
   "outputs": [
    {
     "data": {
      "text/plain": [
       "array([100., 170.])"
      ]
     },
     "execution_count": 51,
     "metadata": {},
     "output_type": "execute_result"
    }
   ],
   "source": [
    "calcModX.x "
   ]
  },
  {
   "cell_type": "markdown",
   "metadata": {},
   "source": [
    "**Answer:**\n",
    "The maximum profit the company can gain is $650, by selling 100 scientific and 170 graphing calculators per day. "
   ]
  }
 ],
 "metadata": {
  "colab": {
   "provenance": []
  },
  "kernelspec": {
   "display_name": "Python 3 (ipykernel)",
   "language": "python",
   "name": "python3"
  },
  "language_info": {
   "codemirror_mode": {
    "name": "ipython",
    "version": 3
   },
   "file_extension": ".py",
   "mimetype": "text/x-python",
   "name": "python",
   "nbconvert_exporter": "python",
   "pygments_lexer": "ipython3",
   "version": "3.10.9"
  }
 },
 "nbformat": 4,
 "nbformat_minor": 1
}
